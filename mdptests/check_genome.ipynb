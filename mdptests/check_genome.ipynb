{
 "cells": [
  {
   "cell_type": "code",
   "execution_count": 1,
   "metadata": {},
   "outputs": [
    {
     "name": "stdout",
     "output_type": "stream",
     "text": [
      "/Users/mahiro/Project/neat-pymdp/mdptests\n"
     ]
    }
   ],
   "source": [
    "# The Python standard library import\n",
    "import sys\n",
    "import os\n",
    "import shutil\n",
    "from pathlib import Path\n",
    "print(str(Path().resolve()))\n",
    "current_dir = str(Path().resolve())\n",
    "sys.path.append(os.path.join(current_dir, '..'))\n",
    "\n",
    "from pathlib import Path\n",
    "# The NEAT-Python library imports\n",
    "import neatmdp"
   ]
  },
  {
   "cell_type": "code",
   "execution_count": 2,
   "metadata": {},
   "outputs": [],
   "source": [
    "# The current working directory\n",
    "#print(Path().resolve())\n",
    "local_dir = os.path.join(str(Path().resolve()))\n",
    "# The directory to store outputs\n",
    "out_dir = str(os.path.join(local_dir, 'out'))\n",
    "\n",
    "\"\"\"\n",
    "The function to run XOR experiment against hyper-parameters \n",
    "defined in the provided configuration file.\n",
    "The winner genome will be rendered as a graph as well as the\n",
    "important statistics of neuroevolution process execution.\n",
    "Arguments:\n",
    "    config_file: the path to the file with experiment \n",
    "                configuration\n",
    "\"\"\"\n",
    "# 設定ファイルを読み込み\n",
    "config_path = os.path.join(local_dir, 'test.ini')\n",
    "config = neatmdp.Config(neatmdp.MdpGenome, neatmdp.DefaultReproduction,\n",
    "                     neatmdp.DefaultSpeciesSet, neatmdp.DefaultStagnation, \n",
    "                     config_path)\n",
    "\n",
    "#初期個体群を生成、一つの個体を取得など\n",
    "# Create the population, which is the top-level object for a NEAT run.\n",
    "p = neatmdp.Population(config)\n"
   ]
  },
  {
   "cell_type": "code",
   "execution_count": 9,
   "metadata": {},
   "outputs": [],
   "source": [
    "sample_g = list(p.population.items())[0][1]"
   ]
  },
  {
   "cell_type": "code",
   "execution_count": 23,
   "metadata": {},
   "outputs": [
    {
     "data": {
      "text/plain": [
       "array([array([0., 0.])], dtype=object)"
      ]
     },
     "execution_count": 23,
     "metadata": {},
     "output_type": "execute_result"
    }
   ],
   "source": [
    "sample_g.nodes[0].dim\n",
    "sample_g.connections[(-1,0)].agent.C"
   ]
  },
  {
   "cell_type": "code",
   "execution_count": null,
   "metadata": {},
   "outputs": [],
   "source": []
  }
 ],
 "metadata": {
  "kernelspec": {
   "display_name": "pymdp",
   "language": "python",
   "name": "python3"
  },
  "language_info": {
   "codemirror_mode": {
    "name": "ipython",
    "version": 3
   },
   "file_extension": ".py",
   "mimetype": "text/x-python",
   "name": "python",
   "nbconvert_exporter": "python",
   "pygments_lexer": "ipython3",
   "version": "3.8.16"
  },
  "orig_nbformat": 4
 },
 "nbformat": 4,
 "nbformat_minor": 2
}
